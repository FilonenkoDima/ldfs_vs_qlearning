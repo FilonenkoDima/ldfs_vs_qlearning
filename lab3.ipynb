{
 "cells": [
  {
   "cell_type": "code",
   "execution_count": 99,
   "id": "initial_id",
   "metadata": {
    "collapsed": true,
    "ExecuteTime": {
     "end_time": "2023-11-13T20:56:33.079280900Z",
     "start_time": "2023-11-13T20:56:33.043272500Z"
    }
   },
   "outputs": [],
   "source": [
    "import numpy as np\n",
    "import matplotlib.pyplot as plt\n",
    "import random"
   ]
  },
  {
   "cell_type": "code",
   "execution_count": 100,
   "outputs": [],
   "source": [
    "maze = [\n",
    " [0, 0, 1, 0, 0, 0, 0, 0, 0, 0],\n",
    " [1, 0, 1, 1, 1, 1, 1, 1, 1, 0],\n",
    " [1, 0, 0, 0, 0, 0, 0, 0, 0, 0],\n",
    " [0, 0, 1, 1, 1, 1, 1, 1, 1, 1],\n",
    " [0, 1, 1, 0, 1, 0, 1, 1, 0, 0],\n",
    " [0, 0, 0, 0, 0, 0, 1, 0, 0, 1],\n",
    " [0, 1, 1, 0, 1, 0, 1, 0, 1, 1],\n",
    " [0, 1, 1, 0, 1, 0, 0, 0, 0, 1],\n",
    " [1, 1, 1, 0, 1, 0, 1, 1, 0, 1],\n",
    " [0, 0, 0, 0, 1, 0, 1, 0, 0, 1]\n",
    "]\n",
    "# Створюємо пустий граф\n",
    "graph = {}\n",
    "\n",
    "# Розмір лабіринту\n",
    "rows = 10\n",
    "cols = 10\n",
    "\n",
    "# Функція для перевірки чи валідна координата\n",
    "def is_valid(x, y):\n",
    "    return 0 <= x < rows and 0 <= y < cols\n",
    "\n",
    "# Проходимось по всьому лабіринту\n",
    "for x in range(rows):\n",
    "    for y in range(cols):\n",
    "        # Якщо клітина - стіна, пропускаємо її\n",
    "        if maze[x][y] == 1:\n",
    "            continue\n",
    "\n",
    "        # Знаходимо сусідів поточної клітини\n",
    "        neighbors = []\n",
    "\n",
    "        # Перевіряємо всі можливі напрямки\n",
    "        directions = [(0, 1), (1, 0), (0, -1), (-1, 0)]\n",
    "        for dx, dy in directions:\n",
    "            new_x, new_y = x + dx, y + dy\n",
    "            if is_valid(new_x, new_y) and maze[new_x][new_y] == 0:\n",
    "                neighbors.append((new_x, new_y))\n",
    "\n",
    "        # Зберігаємо сусідів у графі\n",
    "        node = (x, y)\n",
    "        graph[node] = neighbors\n",
    "\n",
    "# Виводимо граф\n",
    "#for node, neighbors in graph.items():\n",
    "    #print(f\"{node}: {neighbors}\")\n",
    "\n"
   ],
   "metadata": {
    "collapsed": false,
    "ExecuteTime": {
     "end_time": "2023-11-13T20:56:33.101284700Z",
     "start_time": "2023-11-13T20:56:33.063276900Z"
    }
   },
   "id": "baebb7376cd6b4ae"
  },
  {
   "cell_type": "code",
   "execution_count": 101,
   "outputs": [
    {
     "name": "stdout",
     "output_type": "stream",
     "text": [
      "Start:  2   2\n",
      "Path to goal node available\n",
      "Score is  75\n",
      "Path [(2, 2), (2, 3), (2, 4), (2, 5), (2, 4), (2, 3), (2, 2), (2, 1), (3, 1), (3, 0), (4, 0), (5, 0), (5, 1), (5, 2), (5, 3), (5, 4), (5, 5), (6, 5), (7, 5), (7, 6), (7, 7), (7, 8), (8, 8), (9, 8), (9, 7)]\n"
     ]
    }
   ],
   "source": [
    "def LDFS(graph, start,goal,path,level,maxD):\n",
    "  path.append(start)\n",
    "  if start == goal:\n",
    "    return path\n",
    "  if level==maxD:\n",
    "    return False\n",
    "  for child in graph[start]:\n",
    "    if LDFS(graph,child,goal,path,level+1,maxD):\n",
    "      return path\n",
    "    path.pop()\n",
    "  return False\n",
    "\n",
    "x_start = random.randint(0,9)\n",
    "y_start = random.randint(0,9)\n",
    "while(maze[x_start][y_start]):\n",
    "  x_start = random.randint(0,9)\n",
    "  y_start = random.randint(0,9)\n",
    "x_goal = 9\n",
    "y_goal = 7\n",
    "score = 100\n",
    "maxD = 25\n",
    "path = []\n",
    "print(\"Start: \", x_start, \" \", y_start)\n",
    "path = LDFS(graph, (x_start,y_start),(9,7),path,0,maxD)\n",
    "if(path):\n",
    "    print(\"Path to goal node available\")\n",
    "    score = score - len(path)\n",
    "    print(\"Score is \", score)\n",
    "    print(\"Path\",path)\n",
    "else:\n",
    "    print(\"No path available for the goal node in given depth limit\")"
   ],
   "metadata": {
    "collapsed": false,
    "ExecuteTime": {
     "end_time": "2023-11-13T20:56:36.909642100Z",
     "start_time": "2023-11-13T20:56:33.086282900Z"
    }
   },
   "id": "a7819d0893181094"
  },
  {
   "cell_type": "code",
   "execution_count": 102,
   "outputs": [],
   "source": [
    "MAP =[\n",
    "    \"0, 0, 1, 0, 0, 0, 0, 0, 0, 0\",\n",
    "    \"1, 0, 1, 1, 1, 1, 1, 1, 1, 0\",\n",
    "    \"1, 0, 0, 0, 0, 0, 0, 0, 0, 0\",\n",
    "    \"0, 0, 1, 1, 1, 1, 1, 1, 1, 1\",\n",
    "    \"0, 1, 1, 0, 1, 0, 1, 1, 0, 0\",\n",
    "    \"0, 0, 0, 0, 0, 0, 1, 0, 0, 1\",\n",
    "    \"0, 1, 1, 0, 1, 0, 1, 0, 1, 1\",\n",
    "    \"0, 1, 1, 0, 1, 0, 0, 0, 0, 1\",\n",
    "    \"1, 1, 1, 0, 1, 0, 1, 1, 0, 1\",\n",
    "    \"0, 0, 0, 0, 1, 0, 1, 2, 0, 1\",\n",
    "]\n",
    "\n"
   ],
   "metadata": {
    "collapsed": false,
    "ExecuteTime": {
     "end_time": "2023-11-13T20:56:36.939650600Z",
     "start_time": "2023-11-13T20:56:36.910646200Z"
    }
   },
   "id": "522fb8a2a459f1c8"
  },
  {
   "cell_type": "code",
   "execution_count": 103,
   "outputs": [
    {
     "name": "stdout",
     "output_type": "stream",
     "text": [
      "0, 0, 1, 0, 0, 0, 0, 0, 0, 0\n",
      "1, 0, 1, 1, 1, 1, 1, 1, 1, 0\n",
      "1, 0, 3, 0, 0, 0, 0, 0, 0, 0\n",
      "0, 0, 1, 1, 1, 1, 1, 1, 1, 1\n",
      "0, 1, 1, 0, 1, 0, 1, 1, 0, 0\n",
      "0, 0, 0, 0, 0, 0, 1, 0, 0, 1\n",
      "0, 1, 1, 0, 1, 0, 1, 0, 1, 1\n",
      "0, 1, 1, 0, 1, 0, 0, 0, 0, 1\n",
      "1, 1, 1, 0, 1, 0, 1, 1, 0, 1\n",
      "0, 0, 0, 0, 1, 0, 1, 2, 0, 1\n"
     ]
    }
   ],
   "source": [
    "map_list = [list(row.replace(' ', '').split(',')) for row in MAP]\n",
    "\n",
    "# Замініть символи \"0\" на \"3\" за вказаними координатами\n",
    "if 0 <= x_start < len(map_list) and 0 <= y_start < len(map_list[0]):\n",
    "    if map_list[x_start][y_start] == \"0\":\n",
    "        map_list[x_start][y_start] = \"3\"\n",
    "\n",
    "# Поверніть список списків у список рядків\n",
    "modified_MAP = [\", \".join(row) for row in map_list]\n",
    "\n",
    "# Виведіть змінений MAP\n",
    "for row in modified_MAP:\n",
    "    print(row)"
   ],
   "metadata": {
    "collapsed": false,
    "ExecuteTime": {
     "end_time": "2023-11-13T20:56:36.950653500Z",
     "start_time": "2023-11-13T20:56:36.930648600Z"
    }
   },
   "id": "c1486b480c622b4f"
  },
  {
   "cell_type": "code",
   "execution_count": 104,
   "outputs": [
    {
     "name": "stdout",
     "output_type": "stream",
     "text": [
      "0010000000\n",
      "1011111110\n",
      "1030000000\n",
      "0011111111\n",
      "0110101100\n",
      "0000001001\n",
      "0110101011\n",
      "0110100001\n",
      "1110101101\n",
      "0000101201\n"
     ]
    }
   ],
   "source": [
    "for i in range(len(modified_MAP)):\n",
    "  modified_MAP[i] = modified_MAP[i].replace(\",\", \"\")\n",
    "  modified_MAP[i] = modified_MAP[i].replace(\" \", \"\")\n",
    "  print(modified_MAP[i])\n"
   ],
   "metadata": {
    "collapsed": false,
    "ExecuteTime": {
     "end_time": "2023-11-13T20:56:36.960653500Z",
     "start_time": "2023-11-13T20:56:36.942651100Z"
    }
   },
   "id": "b61af6382c3c06a5"
  },
  {
   "cell_type": "code",
   "execution_count": 105,
   "outputs": [],
   "source": [
    "### Describes model of Map\n",
    "\n",
    "class SquareGrid:\n",
    "\n",
    "    def __init__(self, string_map):\n",
    "        self.string_map = string_map\n",
    "        self.end_position = None\n",
    "        self.start_position = None\n",
    "        self.walls = []\n",
    "        self.height = 10\n",
    "        self.width  = 10\n",
    "\n",
    "        ## Validate input\n",
    "        for i in range(0, self.height):\n",
    "            for j in range(0, self.width):\n",
    "                if(string_map[i][j] == \"1\"):\n",
    "                    self.walls.append((i, j))\n",
    "                if(string_map[i][j] == \"3\"):\n",
    "                    self.start_position = (i, j)\n",
    "                if(string_map[i][j] == \"2\"):\n",
    "                    self.end_position = (i, j)\n",
    "        if(self.end_position == None or self.start_position == None):\n",
    "            raise Exception(\"Map does not have 'Start' or 'End' Positions\")\n",
    "\n",
    "\n",
    "    def in_bounds(self, id):\n",
    "        (x, y) = id\n",
    "        return 0 <= x < self.width and 0 <= y < self.height\n",
    "\n",
    "    def passable(self, id):\n",
    "        return id not in self.walls\n",
    "\n",
    "    def neighbors(self, id):\n",
    "        (x, y) = id\n",
    "        results = [(x+1, y), (x, y-1), (x-1, y), (x, y+1)]\n",
    "\n",
    "        results = filter(self.in_bounds, results)\n",
    "        results = filter(self.passable, results)\n",
    "        return results\n",
    "\n",
    "    def cost(self, current, next):\n",
    "        return 1\n",
    "\n",
    "\n",
    "    def get_start_end_positions(self):\n",
    "        return self.start_position, self.end_position;\n",
    "\n",
    "    def draw(self, path = []):\n",
    "        new_map = []\n",
    "        # Fill empty\n",
    "        for x in range(self.height):\n",
    "            new_map.append(\".\" * self.width)\n",
    "\n",
    "        # Draw Walls\n",
    "        for x in self.walls:\n",
    "            (i, j) = x\n",
    "            row = list(new_map[i])\n",
    "            row[j] = \"#\"\n",
    "            new_map[i] = \"\".join(row)\n",
    "\n",
    "      # Draw Path\n",
    "        for x in path:\n",
    "            (i, j) = x\n",
    "            row = list(new_map[i])\n",
    "            row[j] = \"x\"\n",
    "            new_map[i] = \"\".join(row)\n",
    "\n",
    "        # Draw Start end End  Point\n",
    "        (i, j) = self.start_position\n",
    "        row = list(new_map[i])\n",
    "        row[j] = \"S\"\n",
    "        new_map[i] = \"\".join(row)\n",
    "\n",
    "        (i, j) = self.end_position\n",
    "        row = list(new_map[i])\n",
    "        row[j] = \"E\"\n",
    "        new_map[i] = \"\".join(row)\n",
    "\n",
    "        # Draw Map\n",
    "        for i in new_map:\n",
    "            print(i)\n"
   ],
   "metadata": {
    "collapsed": false,
    "ExecuteTime": {
     "end_time": "2023-11-13T20:56:37.000175200Z",
     "start_time": "2023-11-13T20:56:36.966655700Z"
    }
   },
   "id": "2018c1690fa6ca02"
  },
  {
   "cell_type": "code",
   "execution_count": 106,
   "outputs": [
    {
     "name": "stdout",
     "output_type": "stream",
     "text": [
      "..#.......\n",
      "#.#######.\n",
      "#.S.......\n",
      "..########\n",
      ".##.#.##..\n",
      "......#..#\n",
      ".##.#.#.##\n",
      ".##.#....#\n",
      "###.#.##.#\n",
      "....#.#E.#\n"
     ]
    }
   ],
   "source": [
    "### Create a Map and draw it\n",
    "g = SquareGrid(modified_MAP)\n",
    "g.draw()"
   ],
   "metadata": {
    "collapsed": false,
    "ExecuteTime": {
     "end_time": "2023-11-13T20:56:37.001179100Z",
     "start_time": "2023-11-13T20:56:36.975661300Z"
    }
   },
   "id": "cf8947067c28f43f"
  },
  {
   "cell_type": "code",
   "execution_count": 107,
   "outputs": [
    {
     "name": "stdout",
     "output_type": "stream",
     "text": [
      "..#.......\n",
      "#.#######.\n",
      "#xSxxx....\n",
      "xx########\n",
      "x##.#.##..\n",
      "xxxxxx#..#\n",
      ".##.#x#.##\n",
      ".##.#xxxx#\n",
      "###.#.##x#\n",
      "....#.#Ex#\n"
     ]
    }
   ],
   "source": [
    "g.draw(path)"
   ],
   "metadata": {
    "collapsed": false,
    "ExecuteTime": {
     "end_time": "2023-11-13T20:56:37.015181Z",
     "start_time": "2023-11-13T20:56:36.988663300Z"
    }
   },
   "id": "41cf458ba5c948ee"
  },
  {
   "cell_type": "code",
   "execution_count": 108,
   "outputs": [],
   "source": [
    "graf_score = []\n",
    "for i in range(0, 20):\n",
    "  path = []\n",
    "  x_start = random.randint(0,9)\n",
    "  y_start = random.randint(0,9)\n",
    "  while(maze[x_start][y_start]):\n",
    "    x_start = random.randint(0,9)\n",
    "    y_start = random.randint(0,9)\n",
    "  LDFS(graph, (x_start,y_start),(9,7),path,0,maxD)\n",
    "  score = 100 - len(path)\n",
    "  graf_score.append(score)"
   ],
   "metadata": {
    "collapsed": false,
    "ExecuteTime": {
     "end_time": "2023-11-13T20:57:09.106505300Z",
     "start_time": "2023-11-13T20:56:37.005180700Z"
    }
   },
   "id": "360f5f2fbadfb6e0"
  },
  {
   "cell_type": "code",
   "execution_count": 109,
   "outputs": [
    {
     "data": {
      "text/plain": "<Figure size 640x480 with 1 Axes>",
      "image/png": "[encoded data removed]"
     },
     "metadata": {},
     "output_type": "display_data"
    }
   ],
   "source": [
    "y = range(0, 20)\n",
    "plt.plot(y, graf_score)\n",
    "\n",
    "# Додавання заголовка та підписів до осей\n",
    "plt.title(\"\")\n",
    "plt.xlabel(\"Номер гри\")\n",
    "plt.ylabel(\"Оцінка\")\n",
    "\n",
    "# Виведення графіка\n",
    "plt.show()"
   ],
   "metadata": {
    "collapsed": false,
    "ExecuteTime": {
     "end_time": "2023-11-13T20:57:09.221068400Z",
     "start_time": "2023-11-13T20:57:09.109506700Z"
    }
   },
   "id": "20467ec4fe812eeb"
  },
  {
   "cell_type": "code",
   "execution_count": 109,
   "outputs": [],
   "source": [
    "maze"
   ],
   "metadata": {
    "collapsed": false,
    "ExecuteTime": {
     "end_time": "2023-11-13T20:57:09.233061Z",
     "start_time": "2023-11-13T20:57:09.221068400Z"
    }
   },
   "id": "73fd530fae2bda52"
  },
  {
   "cell_type": "code",
   "execution_count": null,
   "outputs": [],
   "source": [
    "class GridWorld:\n",
    "    ## Initialise starting data\n",
    "    def __init__(self):\n",
    "        # Set information about the gridworld\n",
    "        self.height = 10\n",
    "        self.width = 10\n",
    "        self.grid = [\n",
    " [0, 0, 1, 0, 0, 0, 0, 0, 0, 0],\n",
    " [1, 0, 1, 1, 1, 1, 1, 1, 1, 0],\n",
    " [1, 0, 0, 0, 0, 0, 0, 0, 0, 0],\n",
    " [0, 0, 1, 1, 1, 1, 1, 1, 1, 1],\n",
    " [0, 1, 1, 0, 1, 0, 1, 1, 0, 0],\n",
    " [0, 0, 0, 0, 0, 0, 1, 0, 0, 1],\n",
    " [0, 1, 1, 0, 1, 0, 1, 0, 1, 1],\n",
    " [0, 1, 1, 0, 1, 0, 0, 0, 0, 1],\n",
    " [1, 1, 1, 0, 1, 0, 1, 1, 0, 1],\n",
    " [0, 0, 0, 0, 1, 0, 1, 0, 0, 1]\n",
    "]\n",
    "\n",
    "        # Set random start location for the agent\n",
    "        x_start = random.randint(0,9)\n",
    "        y_start = random.randint(0,9)\n",
    "\n",
    "        while(self.grid[x_start][y_start]):\n",
    "          x_start = random.randint(0,9)\n",
    "          y_start = random.randint(0,9)\n",
    "\n",
    "        self.current_location = ( x_start, y_start)\n",
    "\n",
    "        # Set locations for the wall and the gold\n",
    "        self.walls_location = []\n",
    "        self.exit_location = (9,7)\n",
    "        self.terminal_states = [self.exit_location]\n",
    "        for i in range(len(self.grid)):\n",
    "          for j in range(len(self.grid)):\n",
    "            if self.grid[i][j] == 1:\n",
    "              self.walls_location.append((i,j))\n",
    "              self.terminal_states.append((i,j))\n",
    "\n",
    "\n",
    "        # Set grid rewards for special cells\n",
    "        for i in self.walls_location:\n",
    "          x, y = i\n",
    "          self.grid[x][y] = -99\n",
    "\n",
    "        x, y = self.exit_location\n",
    "        self.grid[ self.exit_location[0]][self.exit_location[1]] = 101\n",
    "\n",
    "        # Set available actions\n",
    "        self.actions = ['UP', 'DOWN', 'LEFT', 'RIGHT']\n",
    "\n",
    "\n",
    "    ## Put methods here:\n",
    "    def get_available_actions(self):\n",
    "        \"\"\"Returns possible actions\"\"\"\n",
    "        return self.actions\n",
    "\n",
    "    def agent_on_map(self):\n",
    "        \"\"\"Prints out current location of the agent on the grid (used for debugging)\"\"\"\n",
    "        grid = [\n",
    " [0, 0, 1, 0, 0, 0, 0, 0, 0, 0],\n",
    " [1, 0, 1, 1, 1, 1, 1, 1, 1, 0],\n",
    " [1, 0, 0, 0, 0, 0, 0, 0, 0, 0],\n",
    " [0, 0, 1, 1, 1, 1, 1, 1, 1, 1],\n",
    " [0, 1, 1, 0, 1, 0, 1, 1, 0, 0],\n",
    " [0, 0, 0, 0, 0, 0, 1, 0, 0, 1],\n",
    " [0, 1, 1, 0, 1, 0, 1, 0, 1, 1],\n",
    " [0, 1, 1, 0, 1, 0, 0, 0, 0, 1],\n",
    " [1, 1, 1, 0, 1, 0, 1, 1, 0, 1],\n",
    " [0, 0, 0, 0, 1, 0, 1, 0, 0, 1]\n",
    "]\n",
    "        grid[ self.current_location[0]][self.current_location[1]] = 2\n",
    "        for i in grid:\n",
    "          print(i)\n",
    "        return\n",
    "\n",
    "    def get_reward(self, new_location):\n",
    "        \"\"\"Returns the reward for an input position\"\"\"\n",
    "        return self.grid[ new_location[0]][new_location[1]]\n",
    "\n",
    "\n",
    "    def make_step(self, action):\n",
    "        \"\"\"Moves the agent in the specified direction. If agent is at a border, agent stays still\n",
    "        but takes negative reward. Function returns the reward for the move.\"\"\"\n",
    "        # Store previous location\n",
    "        last_location = self.current_location\n",
    "\n",
    "        # UP\n",
    "        if action == 'UP':\n",
    "            # If agent is at the top, stay still, collect reward\n",
    "            if last_location[0] == 0:\n",
    "                reward = self.get_reward(last_location)\n",
    "            else:\n",
    "                self.current_location = ( self.current_location[0] - 1, self.current_location[1])\n",
    "                reward = self.get_reward(self.current_location)\n",
    "\n",
    "        # DOWN\n",
    "        elif action == 'DOWN':\n",
    "            # If agent is at bottom, stay still, collect reward\n",
    "            if last_location[0] == self.height - 1:\n",
    "                reward = self.get_reward(last_location)\n",
    "            else:\n",
    "                self.current_location = ( self.current_location[0] + 1, self.current_location[1])\n",
    "                reward = self.get_reward(self.current_location)\n",
    "\n",
    "        # LEFT\n",
    "        elif action == 'LEFT':\n",
    "            # If agent is at the left, stay still, collect reward\n",
    "            if last_location[1] == 0:\n",
    "                reward = self.get_reward(last_location)\n",
    "            else:\n",
    "                self.current_location = ( self.current_location[0], self.current_location[1] - 1)\n",
    "                reward = self.get_reward(self.current_location)\n",
    "\n",
    "        # RIGHT\n",
    "        elif action == 'RIGHT':\n",
    "            # If agent is at the right, stay still, collect reward\n",
    "            if last_location[1] == self.width - 1:\n",
    "                reward = self.get_reward(last_location)\n",
    "            else:\n",
    "                self.current_location = ( self.current_location[0], self.current_location[1] + 1)\n",
    "                reward = self.get_reward(self.current_location)\n",
    "\n",
    "        return reward - 1\n",
    "\n",
    "    def check_state(self):\n",
    "        \"\"\"Check if the agent is in a terminal state (gold or bomb), if so return 'TERMINAL'\"\"\"\n",
    "        if self.current_location in self.terminal_states:\n",
    "            return 'TERMINAL'"
   ],
   "metadata": {
    "collapsed": false
   },
   "id": "b27aab3f5473003"
  },
  {
   "cell_type": "code",
   "execution_count": null,
   "outputs": [],
   "source": [
    "class RandomAgent():\n",
    "    # Choose a random action\n",
    "    def choose_action(self, available_actions):\n",
    "        \"\"\"Returns a random choice of the available actions\"\"\"\n",
    "        return np.random.choice(available_actions)"
   ],
   "metadata": {
    "collapsed": false
   },
   "id": "c0a1fb05060d587e"
  },
  {
   "cell_type": "code",
   "execution_count": null,
   "outputs": [],
   "source": [
    "def play(environment, agent, trials=500, max_steps_per_episode=1000, learn=False):\n",
    "    \"\"\"The play function runs iterations and updates Q-values if desired.\"\"\"\n",
    "    reward_per_episode = [] # Initialise performance log\n",
    "\n",
    "    for trial in range(trials): # Run trials\n",
    "        cumulative_reward = 100 # Initialise values of each game\n",
    "        step = 0\n",
    "        game_over = False\n",
    "        while step < max_steps_per_episode and game_over != True: # Run until max steps or until game is finished\n",
    "            old_state = environment.current_location\n",
    "            action = agent.choose_action(environment.actions)\n",
    "            reward = environment.make_step(action)\n",
    "            new_state = environment.current_location\n",
    "\n",
    "            if learn == True: # Update Q-values if learning is specified\n",
    "                agent.learn(old_state, reward, new_state, action)\n",
    "\n",
    "            cumulative_reward += reward\n",
    "            step += 1\n",
    "\n",
    "            if environment.check_state() == 'TERMINAL': # If game is in terminal state, game over and start next trial\n",
    "                environment.__init__()\n",
    "                game_over = True\n",
    "\n",
    "        reward_per_episode.append(cumulative_reward) # Append reward for current trial to performance log\n",
    "\n",
    "    return reward_per_episode # Return performance log"
   ],
   "metadata": {
    "collapsed": false
   },
   "id": "3beb2fab65170854"
  },
  {
   "cell_type": "code",
   "execution_count": null,
   "outputs": [],
   "source": [
    "env = GridWorld()\n",
    "agent = RandomAgent()\n",
    "\n",
    "print(\"Current position of the agent =\", env.current_location)\n",
    "env.agent_on_map()\n",
    "available_actions = env.get_available_actions()\n",
    "print(\"Available_actions =\", available_actions)\n",
    "chosen_action = agent.choose_action(available_actions)\n",
    "print(\"Randomly chosen action =\", chosen_action)\n",
    "reward = env.make_step(chosen_action)\n",
    "print(\"Reward obtained =\", reward)\n",
    "print(\"Current position of the agent =\", env.current_location)\n",
    "env.agent_on_map()"
   ],
   "metadata": {
    "collapsed": false
   },
   "id": "c8f1695701a41251"
  },
  {
   "cell_type": "code",
   "execution_count": null,
   "outputs": [],
   "source": [
    "# Initialize environment and agent\n",
    "environment = GridWorld()\n",
    "random_agent = RandomAgent()\n",
    "\n",
    "reward_per_episode = play(environment, random_agent, trials=500)\n",
    "\n",
    "# Simple learning curve\n",
    "plt.plot(reward_per_episode)"
   ],
   "metadata": {
    "collapsed": false
   },
   "id": "2221d200eac819d6"
  }
 ],
 "metadata": {
  "kernelspec": {
   "display_name": "Python 3",
   "language": "python",
   "name": "python3"
  },
  "language_info": {
   "codemirror_mode": {
    "name": "ipython",
    "version": 2
   },
   "file_extension": ".py",
   "mimetype": "text/x-python",
   "name": "python",
   "nbconvert_exporter": "python",
   "pygments_lexer": "ipython2",
   "version": "2.7.6"
  }
 },
 "nbformat": 4,
 "nbformat_minor": 5
}
